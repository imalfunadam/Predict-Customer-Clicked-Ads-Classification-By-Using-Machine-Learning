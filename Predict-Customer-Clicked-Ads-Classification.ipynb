{
 "cells": [
  {
   "cell_type": "markdown",
   "metadata": {},
   "source": [
    "# Predict Customer Clicked Ads Classification\n",
    "\n",
    "Table of Content:\n",
    "\n",
    "- Introduction\n",
    "- Load Dataset\n",
    "- Exploratory Data Analysis\n",
    "- Data Preprocessing\n",
    "- Modeling\n",
    "- Save Model\n",
    "\n",
    "## Introduction\n",
    "\n",
    "**Latar Belakang**\n",
    "\n",
    " Seiring perkembangan zaman, perusahaan harus mampu mengoptimalkan metode iklan mereka di platform digital untuk menarik calon pelanggan potensial dengan biaya minimal. Hal ini dilakukan dengan tujuan meningkatkan konversi, yaitu jumlah pelanggan potensial yang melakukan pembelian setelah mengklik iklan. Namun, untuk mencapai tujuan ini, perusahaan harus dapat melakukan prediksi click-through yang akurat. Click-through rate yang akurat sangat penting dalam menentukan keberhasilan kampanye iklan digital. Tanpa prediksi yang akurat, perusahaan mungkin akan mengeluarkan biaya yang besar tanpa hasil yang signifikan.\n",
    "\n",
    "**Tujuan**\n",
    "\n",
    " Membuat model machine learning yang dapat mendeteksi pengguna potensial untuk konversi atau tertarik pada sebuah iklan, sehingga perusahaan bisa mengoptimalkan biaya dalam beriklan.\n",
    "\n",
    "**Sasaran**\n",
    "\n",
    "Memprediksi pengguna yang memiliki potensi untuk klik iklan atau tidak dengan akurasi 90%.\n",
    "Mendapatkan insight mengenai pola pengguna potensial yang klik iklan.\n",
    "Memberikan rekomendasi bisnis berdasarkan hasil analisis dan model.\n",
    "\n",
    "**Metrik Bisnis**\n",
    "\n",
    "Click-through rate (CTR)\n",
    "\n",
    " **Langkah-langkah**\n",
    "\n",
    "1. Pengumpulan Data: Mengumpulkan data historis tentang kampanye iklan digital, termasuk data tentang pengguna, iklan, dan klik.\n",
    "2. Pembersihan Data: Membersihkan data dari nilai yang hilang atau tidak konsisten.\n",
    "3. Analisis Data: Menganalisis data untuk mengidentifikasi pola dan faktor yang berkontribusi pada click-through.\n",
    "4. Pemilihan Model: Memilih model machine learning yang sesuai untuk memprediksi click-through.\n",
    "5. Pelatihan Model: Melatih model machine learning dengan data yang telah dibersihkan dan dianalisis.\n",
    "6. Evaluasi Model: Mengevaluasi performa model machine learning dengan menggunakan data yang belum digunakan untuk pelatihan.\n",
    "7. Penyebaran Model: Menyebarkan model machine learning ke platform produksi untuk digunakan dalam kampanye iklan digital.\n",
    "\n",
    " **Manfaat**\n",
    "\n",
    "- Meningkatkan efisiensi kampanye iklan digital dengan menargetkan pengguna yang lebih berpotensi untuk konversi.\n",
    "- Meningkatkan click-through rate dan ROI (Return on Investment) dari kampanye iklan digital.\n",
    "- Mendapatkan insight yang lebih baik tentang perilaku pengguna dan faktor yang mempengaruhi click-through.\n",
    "- Meningkatkan pengambilan keputusan dalam strategi iklan digital.\n",
    "\n",
    " **Kesimpulan**\n",
    "\n",
    " Membangun model machine learning untuk memprediksi click-through rate dapat membantu perusahaan mengoptimalkan kampanye iklan digital mereka, meningkatkan efisiensi dan ROI, serta mendapatkan insight yang lebih baik tentang perilaku pengguna.\n",
    "\n",
    " **Catatan:**\n",
    "\n",
    "- Ini adalah gambaran umum dari proses membangun model machine learning untuk prediksi click-through rate. Detailnya dapat bervariasi tergantung pada situasi dan data yang tersedia.\n",
    "- Penting untuk memilih model yang tepat dan melatihnya dengan data yang cukup untuk mencapai akurasi yang tinggi.\n",
    "- Model machine learning harus dipantau dan diperbarui secara berkala untuk memastikan performanya tetap optimal.\n",
    "\n",
    "## Load Dataset"
   ]
  },
  {
   "cell_type": "code",
   "execution_count": 1,
   "metadata": {},
   "outputs": [],
   "source": [
    "import pandas as pd \n",
    "import numpy as np\n",
    "import seaborn as sns\n",
    "import matplotlib.pyplot as plt \n",
    "%matplotlib inline\n",
    "import warnings\n",
    "warnings.filterwarnings(\"ignore\")"
   ]
  },
  {
   "cell_type": "code",
   "execution_count": 2,
   "metadata": {},
   "outputs": [
    {
     "data": {
      "text/html": [
       "<div>\n",
       "<style scoped>\n",
       "    .dataframe tbody tr th:only-of-type {\n",
       "        vertical-align: middle;\n",
       "    }\n",
       "\n",
       "    .dataframe tbody tr th {\n",
       "        vertical-align: top;\n",
       "    }\n",
       "\n",
       "    .dataframe thead th {\n",
       "        text-align: right;\n",
       "    }\n",
       "</style>\n",
       "<table border=\"1\" class=\"dataframe\">\n",
       "  <thead>\n",
       "    <tr style=\"text-align: right;\">\n",
       "      <th></th>\n",
       "      <th>Unnamed: 0</th>\n",
       "      <th>Daily Time Spent on Site</th>\n",
       "      <th>Age</th>\n",
       "      <th>Area Income</th>\n",
       "      <th>Daily Internet Usage</th>\n",
       "      <th>Male</th>\n",
       "      <th>Timestamp</th>\n",
       "      <th>Clicked on Ad</th>\n",
       "      <th>city</th>\n",
       "      <th>province</th>\n",
       "      <th>category</th>\n",
       "    </tr>\n",
       "  </thead>\n",
       "  <tbody>\n",
       "    <tr>\n",
       "      <th>312</th>\n",
       "      <td>312</td>\n",
       "      <td>75.55</td>\n",
       "      <td>22</td>\n",
       "      <td>292959660.0</td>\n",
       "      <td>169.40</td>\n",
       "      <td>Perempuan</td>\n",
       "      <td>2/19/2016 7:29</td>\n",
       "      <td>Yes</td>\n",
       "      <td>Jakarta Utara</td>\n",
       "      <td>Daerah Khusus Ibukota Jakarta</td>\n",
       "      <td>Finance</td>\n",
       "    </tr>\n",
       "    <tr>\n",
       "      <th>685</th>\n",
       "      <td>685</td>\n",
       "      <td>76.27</td>\n",
       "      <td>27</td>\n",
       "      <td>420578620.0</td>\n",
       "      <td>226.69</td>\n",
       "      <td>Laki-Laki</td>\n",
       "      <td>6/18/2016 1:42</td>\n",
       "      <td>No</td>\n",
       "      <td>Cimahi</td>\n",
       "      <td>Jawa Barat</td>\n",
       "      <td>Travel</td>\n",
       "    </tr>\n",
       "    <tr>\n",
       "      <th>530</th>\n",
       "      <td>530</td>\n",
       "      <td>65.10</td>\n",
       "      <td>49</td>\n",
       "      <td>416202640.0</td>\n",
       "      <td>118.10</td>\n",
       "      <td>Laki-Laki</td>\n",
       "      <td>6/1/2016 3:44</td>\n",
       "      <td>Yes</td>\n",
       "      <td>Jakarta Barat</td>\n",
       "      <td>Daerah Khusus Ibukota Jakarta</td>\n",
       "      <td>Furniture</td>\n",
       "    </tr>\n",
       "  </tbody>\n",
       "</table>\n",
       "</div>"
      ],
      "text/plain": [
       "     Unnamed: 0  Daily Time Spent on Site  Age  Area Income  \\\n",
       "312         312                     75.55   22  292959660.0   \n",
       "685         685                     76.27   27  420578620.0   \n",
       "530         530                     65.10   49  416202640.0   \n",
       "\n",
       "     Daily Internet Usage       Male       Timestamp Clicked on Ad  \\\n",
       "312                169.40  Perempuan  2/19/2016 7:29           Yes   \n",
       "685                226.69  Laki-Laki  6/18/2016 1:42            No   \n",
       "530                118.10  Laki-Laki   6/1/2016 3:44           Yes   \n",
       "\n",
       "              city                       province   category  \n",
       "312  Jakarta Utara  Daerah Khusus Ibukota Jakarta    Finance  \n",
       "685         Cimahi                     Jawa Barat     Travel  \n",
       "530  Jakarta Barat  Daerah Khusus Ibukota Jakarta  Furniture  "
      ]
     },
     "execution_count": 2,
     "metadata": {},
     "output_type": "execute_result"
    }
   ],
   "source": [
    "df = pd.read_csv('Clicked Ads Dataset.csv')\n",
    "df.sample(3)"
   ]
  },
  {
   "cell_type": "markdown",
   "metadata": {},
   "source": [
    "## Exploratory Data Analysis\n",
    "\n",
    "### Overview Data\n",
    "\n",
    "Melakukan investigasi awal terhadap data untuk memahami karakteristik dan informasi yang terkandung didalamnya termasuk missing value dan duplikat."
   ]
  },
  {
   "cell_type": "code",
   "execution_count": 3,
   "metadata": {},
   "outputs": [
    {
     "data": {
      "text/plain": [
       "(1000, 11)"
      ]
     },
     "execution_count": 3,
     "metadata": {},
     "output_type": "execute_result"
    }
   ],
   "source": [
    "df.shape"
   ]
  },
  {
   "cell_type": "code",
   "execution_count": 4,
   "metadata": {},
   "outputs": [
    {
     "data": {
      "text/html": [
       "<div>\n",
       "<style scoped>\n",
       "    .dataframe tbody tr th:only-of-type {\n",
       "        vertical-align: middle;\n",
       "    }\n",
       "\n",
       "    .dataframe tbody tr th {\n",
       "        vertical-align: top;\n",
       "    }\n",
       "\n",
       "    .dataframe thead th {\n",
       "        text-align: right;\n",
       "    }\n",
       "</style>\n",
       "<table border=\"1\" class=\"dataframe\">\n",
       "  <thead>\n",
       "    <tr style=\"text-align: right;\">\n",
       "      <th></th>\n",
       "      <th>feature</th>\n",
       "      <th>data_type</th>\n",
       "      <th>null_values</th>\n",
       "      <th>null_percentage</th>\n",
       "      <th>unique_values</th>\n",
       "      <th>unique_sample</th>\n",
       "    </tr>\n",
       "  </thead>\n",
       "  <tbody>\n",
       "    <tr>\n",
       "      <th>0</th>\n",
       "      <td>Unnamed: 0</td>\n",
       "      <td>int64</td>\n",
       "      <td>0</td>\n",
       "      <td>0.0</td>\n",
       "      <td>1000</td>\n",
       "      <td>[0, 1, 2, 3, 4, 5, 6, 7, 8, 9]</td>\n",
       "    </tr>\n",
       "    <tr>\n",
       "      <th>1</th>\n",
       "      <td>Daily Time Spent on Site</td>\n",
       "      <td>float64</td>\n",
       "      <td>13</td>\n",
       "      <td>1.3</td>\n",
       "      <td>890</td>\n",
       "      <td>[68.95, 80.23, 69.47, 74.15, 68.37, 59.99, 88....</td>\n",
       "    </tr>\n",
       "    <tr>\n",
       "      <th>2</th>\n",
       "      <td>Age</td>\n",
       "      <td>int64</td>\n",
       "      <td>0</td>\n",
       "      <td>0.0</td>\n",
       "      <td>43</td>\n",
       "      <td>[35, 31, 26, 29, 23, 33, 48, 30, 20, 49]</td>\n",
       "    </tr>\n",
       "    <tr>\n",
       "      <th>3</th>\n",
       "      <td>Area Income</td>\n",
       "      <td>float64</td>\n",
       "      <td>13</td>\n",
       "      <td>1.3</td>\n",
       "      <td>987</td>\n",
       "      <td>[432837300.0, 479092950.00000006, 418501580.0,...</td>\n",
       "    </tr>\n",
       "    <tr>\n",
       "      <th>4</th>\n",
       "      <td>Daily Internet Usage</td>\n",
       "      <td>float64</td>\n",
       "      <td>11</td>\n",
       "      <td>1.1</td>\n",
       "      <td>955</td>\n",
       "      <td>[256.09, 193.77, 236.5, 245.89, 225.58, 226.74...</td>\n",
       "    </tr>\n",
       "    <tr>\n",
       "      <th>5</th>\n",
       "      <td>Male</td>\n",
       "      <td>object</td>\n",
       "      <td>3</td>\n",
       "      <td>0.3</td>\n",
       "      <td>2</td>\n",
       "      <td>[Perempuan, Laki-Laki, nan]</td>\n",
       "    </tr>\n",
       "    <tr>\n",
       "      <th>6</th>\n",
       "      <td>Timestamp</td>\n",
       "      <td>object</td>\n",
       "      <td>0</td>\n",
       "      <td>0.0</td>\n",
       "      <td>997</td>\n",
       "      <td>[3/27/2016 0:53, 4/4/2016 1:39, 3/13/2016 20:3...</td>\n",
       "    </tr>\n",
       "    <tr>\n",
       "      <th>7</th>\n",
       "      <td>Clicked on Ad</td>\n",
       "      <td>object</td>\n",
       "      <td>0</td>\n",
       "      <td>0.0</td>\n",
       "      <td>2</td>\n",
       "      <td>[No, Yes]</td>\n",
       "    </tr>\n",
       "    <tr>\n",
       "      <th>8</th>\n",
       "      <td>city</td>\n",
       "      <td>object</td>\n",
       "      <td>0</td>\n",
       "      <td>0.0</td>\n",
       "      <td>30</td>\n",
       "      <td>[Jakarta Timur, Denpasar, Surabaya, Batam, Med...</td>\n",
       "    </tr>\n",
       "    <tr>\n",
       "      <th>9</th>\n",
       "      <td>province</td>\n",
       "      <td>object</td>\n",
       "      <td>0</td>\n",
       "      <td>0.0</td>\n",
       "      <td>16</td>\n",
       "      <td>[Daerah Khusus Ibukota Jakarta, Bali, Jawa Tim...</td>\n",
       "    </tr>\n",
       "    <tr>\n",
       "      <th>10</th>\n",
       "      <td>category</td>\n",
       "      <td>object</td>\n",
       "      <td>0</td>\n",
       "      <td>0.0</td>\n",
       "      <td>10</td>\n",
       "      <td>[Furniture, Food, Electronic, House, Finance, ...</td>\n",
       "    </tr>\n",
       "  </tbody>\n",
       "</table>\n",
       "</div>"
      ],
      "text/plain": [
       "                     feature  data_type   null_values   null_percentage  \\\n",
       "0                 Unnamed: 0      int64             0               0.0   \n",
       "1   Daily Time Spent on Site    float64            13               1.3   \n",
       "2                        Age      int64             0               0.0   \n",
       "3                Area Income    float64            13               1.3   \n",
       "4       Daily Internet Usage    float64            11               1.1   \n",
       "5                       Male     object             3               0.3   \n",
       "6                  Timestamp     object             0               0.0   \n",
       "7              Clicked on Ad     object             0               0.0   \n",
       "8                       city     object             0               0.0   \n",
       "9                   province     object             0               0.0   \n",
       "10                  category     object             0               0.0   \n",
       "\n",
       "     unique_values                                      unique_sample  \n",
       "0             1000                     [0, 1, 2, 3, 4, 5, 6, 7, 8, 9]  \n",
       "1              890  [68.95, 80.23, 69.47, 74.15, 68.37, 59.99, 88....  \n",
       "2               43           [35, 31, 26, 29, 23, 33, 48, 30, 20, 49]  \n",
       "3              987  [432837300.0, 479092950.00000006, 418501580.0,...  \n",
       "4              955  [256.09, 193.77, 236.5, 245.89, 225.58, 226.74...  \n",
       "5                2                        [Perempuan, Laki-Laki, nan]  \n",
       "6              997  [3/27/2016 0:53, 4/4/2016 1:39, 3/13/2016 20:3...  \n",
       "7                2                                          [No, Yes]  \n",
       "8               30  [Jakarta Timur, Denpasar, Surabaya, Batam, Med...  \n",
       "9               16  [Daerah Khusus Ibukota Jakarta, Bali, Jawa Tim...  \n",
       "10              10  [Furniture, Food, Electronic, House, Finance, ...  "
      ]
     },
     "execution_count": 4,
     "metadata": {},
     "output_type": "execute_result"
    }
   ],
   "source": [
    "# overview\n",
    "list_item = []\n",
    "for col in df.columns:\n",
    "    list_item.append([col, df[col].dtype, df[col].isna().sum(), round(100*df[col].isna().sum()/len(df[col]), 2), df[col].nunique(), df[col].unique()[:10]])\n",
    "desc_df = pd.DataFrame(data=list_item, columns='feature, data_type, null_values, null_percentage, unique_values, unique_sample'.split(\",\"))\n",
    "desc_df"
   ]
  },
  {
   "cell_type": "code",
   "execution_count": 5,
   "metadata": {},
   "outputs": [
    {
     "data": {
      "text/plain": [
       "0"
      ]
     },
     "execution_count": 5,
     "metadata": {},
     "output_type": "execute_result"
    }
   ],
   "source": [
    "df.duplicated().sum()"
   ]
  },
  {
   "cell_type": "code",
   "execution_count": 6,
   "metadata": {},
   "outputs": [
    {
     "data": {
      "text/plain": [
       "['Unnamed: 0',\n",
       " 'Daily Time Spent on Site',\n",
       " 'Age',\n",
       " 'Area Income',\n",
       " 'Daily Internet Usage']"
      ]
     },
     "execution_count": 6,
     "metadata": {},
     "output_type": "execute_result"
    }
   ],
   "source": [
    "# numerikal fitur\n",
    "nums = df.loc[:, (df.dtypes == 'int64') | (df.dtypes == float)].columns.tolist()\n",
    "nums"
   ]
  },
  {
   "cell_type": "code",
   "execution_count": 7,
   "metadata": {},
   "outputs": [
    {
     "data": {
      "text/plain": [
       "['Male', 'Timestamp', 'Clicked on Ad', 'city', 'province', 'category']"
      ]
     },
     "execution_count": 7,
     "metadata": {},
     "output_type": "execute_result"
    }
   ],
   "source": [
    "# kategorikal fitur\n",
    "cats = df.loc[:, (df.dtypes == 'object')].columns.tolist()\n",
    "cats"
   ]
  }
 ],
 "metadata": {
  "kernelspec": {
   "display_name": "base",
   "language": "python",
   "name": "python3"
  },
  "language_info": {
   "codemirror_mode": {
    "name": "ipython",
    "version": 3
   },
   "file_extension": ".py",
   "mimetype": "text/x-python",
   "name": "python",
   "nbconvert_exporter": "python",
   "pygments_lexer": "ipython3",
   "version": "3.11.3"
  }
 },
 "nbformat": 4,
 "nbformat_minor": 2
}
